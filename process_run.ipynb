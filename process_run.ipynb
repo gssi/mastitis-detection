{
 "cells": [
  {
   "cell_type": "code",
   "execution_count": null,
   "id": "a7d3521d",
   "metadata": {},
   "outputs": [],
   "source": [
    "### --------- DATASET ASSEMBLY STEPS (1-5) --------- ###\n",
    "\n",
    "from dataset_assembly.functional_check_step import cf_main\n",
    "from dataset_assembly.calving_step import calving_main\n",
    "from dataset_assembly.diseases_step import treat_main\n",
    "from dataset_assembly.ele_conductivity_step import ec_main\n",
    "from dataset_assembly.lactose_step import ltts_main\n",
    "from dataset_assembly.anagraphic_step import ana_main\n",
    "\n",
    "### -------- ML PROCESS STEPS (6-13) --------- ###\n",
    "\n",
    "from ml_process.dataset_assembly import merge_main\n",
    "from ml_process.transformer import pre_processing, dit\n",
    "from ml_process.imputer import run_clinical_imputation, distribution_comparison\n",
    "from ml_process.feature_engineer import create_wide\n",
    "from ml_process.sampler import undersample_balanced\n",
    "from ml_process.classifier_module import split_by_animal, call_xgb, call_rf, call_cat, call_lgbm, upload_classifiers\n",
    "from ml_process.analyzer import assemble_feature_summary, save_feature_summary_txt"
   ]
  },
  {
   "cell_type": "code",
   "execution_count": null,
   "id": "93e1e3e4",
   "metadata": {},
   "outputs": [],
   "source": [
    "## 1. FUNCTIONAL CHECK STEP\n",
    "cf_main()"
   ]
  },
  {
   "cell_type": "code",
   "execution_count": null,
   "id": "3b272345",
   "metadata": {},
   "outputs": [],
   "source": [
    "## 2. CALVING STEP\n",
    "calving_main()"
   ]
  },
  {
   "cell_type": "code",
   "execution_count": null,
   "id": "4cb2be45",
   "metadata": {},
   "outputs": [],
   "source": [
    "## 3. DISEASES\n",
    "treat_main()"
   ]
  },
  {
   "cell_type": "code",
   "execution_count": null,
   "id": "01b50499",
   "metadata": {},
   "outputs": [],
   "source": [
    "## 4. EC & LACTOSE\n",
    "ec_main()\n",
    "ltts_main()"
   ]
  },
  {
   "cell_type": "code",
   "execution_count": null,
   "id": "0f5aeedd",
   "metadata": {},
   "outputs": [],
   "source": [
    "## 5. ANAGRAPHIC DATA\n",
    "ana_main()"
   ]
  },
  {
   "cell_type": "code",
   "execution_count": null,
   "id": "e953ee22",
   "metadata": {},
   "outputs": [],
   "source": [
    "## 6. MERGING DATASETS\n",
    "merge_main()"
   ]
  },
  {
   "cell_type": "code",
   "execution_count": null,
   "id": "cf5df459",
   "metadata": {},
   "outputs": [],
   "source": [
    "## 7. DOMAIN-INFORMED TRANSFORMER\n",
    "\n",
    "pre_processing(input_path=r\"temporary_datasets\\merged_dataset.parquet\",output_path=r\"temporary_datasets\\first_imputation.parquet\")\n",
    "dit(input_path=r\"temporary_datasets\\first_imputation.parquet\", output_path=r\"temporary_datasets\\domain_informed_dataset.parquet\")"
   ]
  },
  {
   "cell_type": "code",
   "execution_count": null,
   "id": "d988c194",
   "metadata": {},
   "outputs": [],
   "source": [
    "## 8. MISSING DATA IMPUTER\n",
    "\n",
    "run_clinical_imputation(input_path=r\"temporary_datasets\\domain_informed_dataset.parquet\",output_path=r\"temporary_datasets\\imputed.parquet\")\n",
    "distribution_comparison(input_path=r\"temporary_datasets\\domain_informed_dataset.parquet\",output_path=r\"temporary_datasets\\imputed.parquet\")"
   ]
  },
  {
   "cell_type": "code",
   "execution_count": null,
   "id": "5aa95a83",
   "metadata": {},
   "outputs": [],
   "source": [
    "## 9. FEATURE ENGINEERING\n",
    "\n",
    "create_wide(r\"temporary_datasets\\imputed.parquet\", r\"temporary_datasets\\wide.parquet\")"
   ]
  },
  {
   "cell_type": "code",
   "execution_count": null,
   "id": "5ae0e58a",
   "metadata": {},
   "outputs": [],
   "source": [
    "## 10. UNDERSAMPLING\n",
    "\n",
    "undersample_balanced(input_path=r\"temporary_datasets\\wide.parquet\", output_path=r\"temporary_datasets\\balanced_dataset.parquet\")"
   ]
  },
  {
   "cell_type": "code",
   "execution_count": null,
   "id": "aed5b20b",
   "metadata": {},
   "outputs": [],
   "source": [
    "## 11. PRE-CLASSIFICATION DATASET PREPARATION\n",
    "\n",
    "from libraries import pd\n",
    "\n",
    "# features_for_test = ['id', 'mastitis', 'scs', 'scs_t-1', 'scs_t-2', 'ec', 'ec_t-1', 'lactose', 'fat', 'age', 'milk', 'milk_t-1']\n",
    "\n",
    "X_train, y_train, X_test, y_test = split_by_animal(r\"temporary_datasets\\balanced_dataset.parquet\")#[features_for_test]\n",
    "groups = pd.read_parquet(r\"temporary_datasets\\balanced_dataset.parquet\").loc[X_train.index, 'id'].values"
   ]
  },
  {
   "cell_type": "code",
   "execution_count": null,
   "id": "b69412cb",
   "metadata": {},
   "outputs": [],
   "source": [
    "## 12. CLASSIFIER \n",
    "\n",
    "call_xgb(X_train, y_train, X_test, y_test, groups)\n",
    "call_rf(X_train, y_train, X_test, y_test, groups)\n",
    "call_cat(X_train, y_train, X_test, y_test, groups)\n",
    "call_lgbm(X_train, y_train, X_test, y_test, groups)\n",
    "del X_train, y_train, X_test, y_test, groups"
   ]
  },
  {
   "cell_type": "code",
   "execution_count": null,
   "id": "bdfad5f4",
   "metadata": {},
   "outputs": [],
   "source": [
    "## 13. FEATURE ANALYZER\n",
    "\n",
    "models = upload_classifiers(\"classifier\")\n",
    "_, _, X_test, y_test = split_by_animal(r\"temporary_datasets\\balanced_dataset.parquet\")\n",
    "\n",
    "summary = assemble_feature_summary(models, base_model_name=\"lgbm\", X_test=X_test, y_test=y_test, top_n=20)\n",
    "save_feature_summary_txt(summary, \"output/feature_summary.txt\")\n",
    "del models, summary, X_test, y_test"
   ]
  }
 ],
 "metadata": {
  "kernelspec": {
   "display_name": "Python 3",
   "language": "python",
   "name": "python3"
  },
  "language_info": {
   "codemirror_mode": {
    "name": "ipython",
    "version": 3
   },
   "file_extension": ".py",
   "mimetype": "text/x-python",
   "name": "python",
   "nbconvert_exporter": "python",
   "pygments_lexer": "ipython3",
   "version": "3.11.9"
  }
 },
 "nbformat": 4,
 "nbformat_minor": 5
}
